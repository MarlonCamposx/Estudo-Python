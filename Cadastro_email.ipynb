{
 "cells": [
  {
   "cell_type": "markdown",
   "metadata": {},
   "source": [
    "## 1. Cadastro de e-mails\n",
    "\n",
    "- Nesse sistema, verifica-se se o e-mail que a pessoa inseriu é um e-mail válido, verificando se ele tem '@' e se depois do '@' tem algum ponto, afinal:\n",
    "\n",
    "- fulanogmail.com NÃO é um e-mail válido\n",
    "- fulano@gmail NÃO é um e-mail válido\n",
    "- fulano@gmail.com é um e-mail válido\n",
    "\n",
    "Crie um programa que permita o cadastro de nome e e-mail de uma pessoa (por meio de inputs) e que verifique:\n",
    "1. Se nome e e-mail foram preenchidos, caso contrário ele deve avisar para preencher todos os dados corretamente\n",
    "2. Se o e-mail contém '@' e se depois do '@' existe algum '.', caso contrário ele deve exibir uma mensagem de e-mail inválido"
   ]
  },
  {
   "cell_type": "code",
   "execution_count": 3,
   "metadata": {},
   "outputs": [
    {
     "name": "stdout",
     "output_type": "stream",
     "text": [
      "O email marlon@gmail.com é válido!\n"
     ]
    }
   ],
   "source": [
    "nome = input('Digite seu primeiro nome: ')\n",
    "email = input('Insira um email: ')\n",
    "\n",
    "if nome and email:\n",
    "    arroba = email.find('@')\n",
    "    servidor = email[arroba:]\n",
    "    if ((arroba != -1) and ('.' in servidor)):\n",
    "        print('O email {} é válido!'.format(email))\n",
    "    else:\n",
    "        print('Preencha email corretamente.')\n",
    "else:\n",
    "    print('Preencha o nome e o email corretamente.')"
   ]
  }
 ],
 "metadata": {
  "kernelspec": {
   "display_name": "Python 3.10.5 64-bit",
   "language": "python",
   "name": "python3"
  },
  "language_info": {
   "codemirror_mode": {
    "name": "ipython",
    "version": 3
   },
   "file_extension": ".py",
   "mimetype": "text/x-python",
   "name": "python",
   "nbconvert_exporter": "python",
   "pygments_lexer": "ipython3",
   "version": "3.10.5"
  },
  "orig_nbformat": 4,
  "vscode": {
   "interpreter": {
    "hash": "d9333b541e0cc98a920c70401a8c883097ebdd2a58c23e6fada8077c08578a1b"
   }
  }
 },
 "nbformat": 4,
 "nbformat_minor": 2
}
