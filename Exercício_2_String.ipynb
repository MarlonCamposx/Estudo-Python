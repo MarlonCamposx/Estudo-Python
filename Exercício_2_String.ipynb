{
  "cells": [
    {
      "cell_type": "markdown",
      "id": "2b04bbea",
      "metadata": {
        "id": "2b04bbea"
      },
      "source": [
        "# Strings\n"
      ]
    },
    {
      "cell_type": "markdown",
      "id": "5b1f33b9",
      "metadata": {
        "id": "5b1f33b9"
      },
      "source": [
        "#### 1. Tamanho de strings. Faça um programa que leia 2 strings e informe o conteúdo delas seguido do seu comprimento. Informe também se as duas strings possuem o mesmo comprimento e são iguais ou diferentes no conteúdo.\n",
        "<pre>\n",
        "Compara duas strings\n",
        "String 1: Brasil Hexa 2006\n",
        "String 2: Brasil! Hexa 2006!\n",
        "Tamanho de \"Brasil Hexa 2006\": 16 caracteres\n",
        "Tamanho de \"Brasil! Hexa 2006!\": 18 caracteres\n",
        "As duas strings são de tamanhos diferentes.\n",
        "As duas strings possuem conteúdo diferente.\n",
        "</pre>"
      ]
    },
    {
      "cell_type": "code",
      "execution_count": null,
      "id": "c492b657",
      "metadata": {
        "id": "c492b657"
      },
      "outputs": [],
      "source": [
        "print('Compara duas strings')\n",
        "\n",
        "s1 = input('String 1: ')\n",
        "s2 = input('String 2: ')\n",
        "print(f'Tamanho de \"{s1}\": {len(s1)} caracteres')\n",
        "print(f'Tamanho de \"{s2}\": {len(s2)} caracteres')\n",
        "\n",
        "if len(s1) == len(s2):\n",
        "    print('As strings são de tamanhos iguais.')\n",
        "else:\n",
        "    print('As duas strings são de tamanhos diferentes.')\n",
        "    \n",
        "if s1 == s2:\n",
        "    print('As strings possuem conteúdos iguais.')\n",
        "else:\n",
        "    print('As duas strings possuem conteúdo diferente.')"
      ]
    },
    {
      "cell_type": "markdown",
      "id": "c3068a53",
      "metadata": {
        "id": "c3068a53"
      },
      "source": [
        "#### 2. Valida e corrige número de telefone. Faça um programa que leia um número de telefone, e corrija o número no caso deste conter somente 7 dígitos, acrescentando o '3' na frente. O usuário pode informar o número com ou sem o traço separador.\n",
        "<pre>\n",
        "Valida e corrige número de telefone\n",
        "Telefone: 461-0133\n",
        "Telefone possui 7 dígitos. Vou acrescentar o digito três na frente.\n",
        "Telefone corrigido sem formatação: 34610133\n",
        "Telefone corrigido com formatação: 3461-0133\n",
        "</pre>"
      ]
    },
    {
      "cell_type": "code",
      "execution_count": null,
      "id": "0308566d",
      "metadata": {
        "id": "0308566d"
      },
      "outputs": [],
      "source": [
        "print('Valida e corrige número de telefone')\n",
        "\n",
        "tel = input('Telefone: ')\n",
        "tel = tel.replace('-', '')\n",
        "if len(tel) == 7:\n",
        "    print('Telefone possui 7 dígitos. Vou acrescentar o digito três na frente.')\n",
        "    tel = '3' + tel\n",
        "    print(f'Telefone corrigido sem formatação: {tel}')\n",
        "    print(f'Telefone corrigido com formatação: {tel[:4]}-{tel[4:]}')\n",
        "else:\n",
        "    print('O telefone não tem 7 dígitos.')"
      ]
    }
  ],
  "metadata": {
    "colab": {
      "collapsed_sections": [],
      "provenance": []
    },
    "kernelspec": {
      "display_name": "Python 3.10.5 64-bit",
      "language": "python",
      "name": "python3"
    },
    "language_info": {
      "codemirror_mode": {
        "name": "ipython",
        "version": 3
      },
      "file_extension": ".py",
      "mimetype": "text/x-python",
      "name": "python",
      "nbconvert_exporter": "python",
      "pygments_lexer": "ipython3",
      "version": "3.10.5"
    },
    "vscode": {
      "interpreter": {
        "hash": "d9333b541e0cc98a920c70401a8c883097ebdd2a58c23e6fada8077c08578a1b"
      }
    }
  },
  "nbformat": 4,
  "nbformat_minor": 5
}
