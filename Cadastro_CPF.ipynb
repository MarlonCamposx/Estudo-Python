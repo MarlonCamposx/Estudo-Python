{
  "cells": [
    {
      "cell_type": "markdown",
      "metadata": {
        "id": "uc1Yiy_cFXv7"
      },
      "source": [
        "# Exercícios\n",
        "\n",
        "## 1. Cadastro de CPF\n",
        "\n",
        "Crie um programa para cadastro de CPF de clientes que recebe o CPF em um input box apenas com números.\n",
        "\n",
        "Ex: 'Insira seu CPF (digite apenas números)'\n",
        "\n",
        "Caso o usuário digite algo diferente de números ou digite menos de 11 caracteres (tamanho do CPF brasileiro), o programa deve exibir uma mensagem de \"Digite seu CPF corretamente e digite apenas números\""
      ]
    },
    {
      "cell_type": "code",
      "execution_count": null,
      "metadata": {
        "id": "i5gcg7bMFXv_"
      },
      "outputs": [],
      "source": [
        "cpf = input('Insira seu CPF (digite apenas números): ')\n",
        "\n",
        "if len(cpf) == 11 and cpf.isnumeric():\n",
        "    print('O CPF {} é válido!'.format(cpf))\n",
        "else:\n",
        "    print('Digite seu CPF corretamente e digite apenas números.')"
      ]
    },
    {
      "cell_type": "markdown",
      "metadata": {
        "id": "y3rQiB1jFXwA"
      },
      "source": [
        "## 2. Melhorando nosso Cadastro de CPF\n",
        "\n",
        "Agora, além das validações anteriores, vamos criar um input que permita que o usuário insira pontos, traços e inclusive espaços vazios.\n",
        "\n",
        "Nosso programa deve \"tratar\" o que o usuário inserir para padronizar o CPF dele em apenas números.\n",
        "\n",
        "A verificação de tamanho do CPF com 11 caracteres continua válida, mas ela só deve ser feita depois de retirar todos os pontos, traços e espaços do CPF que o cliente inserir e, uma vez retirados pontos, traços e espaços, devem sobrar apenas números no CPF. Qualquer outro caractere deve ser considerado inválido.\n",
        "\n",
        "No final, nosso programa deve exibir uma mensagem para o usuário, caso ele tenha inserido o CPF inválido ou então apenas deve printar o CPF correto já só com número."
      ]
    },
    {
      "cell_type": "code",
      "execution_count": null,
      "metadata": {
        "id": "Xy3nqvugFXwA"
      },
      "outputs": [],
      "source": [
        "cpf_otimizado = input('Insira seu CPF: ')\n",
        "\n",
        "# Tratando\n",
        "cpf_otimizado = cpf_otimizado.replace('.', '')\n",
        "cpf_otimizado = cpf_otimizado.replace('-', '')\n",
        "cpf_otimizado = cpf_otimizado.replace(' ', '')\n",
        "\n",
        "# Executando\n",
        "if len(cpf_otimizado) == 11 and cpf_otimizado.isnumeric():\n",
        "    print('O CPF {} é válido!'.format(cpf_otimizado))\n",
        "else:\n",
        "    print('CPF inválido!')"
      ]
    }
  ],
  "metadata": {
    "colab": {
      "provenance": []
    },
    "kernelspec": {
      "display_name": "Python 3.10.5 64-bit",
      "language": "python",
      "name": "python3"
    },
    "language_info": {
      "codemirror_mode": {
        "name": "ipython",
        "version": 3
      },
      "file_extension": ".py",
      "mimetype": "text/x-python",
      "name": "python",
      "nbconvert_exporter": "python",
      "pygments_lexer": "ipython3",
      "version": "3.10.5"
    },
    "vscode": {
      "interpreter": {
        "hash": "d9333b541e0cc98a920c70401a8c883097ebdd2a58c23e6fada8077c08578a1b"
      }
    }
  },
  "nbformat": 4,
  "nbformat_minor": 0
}
